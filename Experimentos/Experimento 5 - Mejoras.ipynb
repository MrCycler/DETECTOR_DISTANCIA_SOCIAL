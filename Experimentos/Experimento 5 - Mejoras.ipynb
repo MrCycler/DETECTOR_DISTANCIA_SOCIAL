{
 "cells": [
  {
   "cell_type": "code",
   "execution_count": 11,
   "metadata": {},
   "outputs": [
    {
     "name": "stdout",
     "output_type": "stream",
     "text": [
      "Requirement already satisfied: opencv-python in e:\\instalaciones\\anaconda\\lib\\site-packages (4.2.0.34)\n",
      "Requirement already satisfied: numpy>=1.14.5 in e:\\instalaciones\\anaconda\\lib\\site-packages (from opencv-python) (1.15.1)\n"
     ]
    },
    {
     "name": "stderr",
     "output_type": "stream",
     "text": [
      "WARNING: You are using pip version 19.2.3, however version 20.1.1 is available.\n",
      "You should consider upgrading via the 'python -m pip install --upgrade pip' command.\n"
     ]
    }
   ],
   "source": [
    "#Intalacion de la librería opencv si es que no se tienen\n",
    "!pip install opencv-python"
   ]
  },
  {
   "cell_type": "code",
   "execution_count": 12,
   "metadata": {},
   "outputs": [],
   "source": [
    "#Librerias utilizadas en el proyecto:\n",
    "import cv2\n",
    "import matplotlib.pyplot as plt\n",
    "from IPython.display import clear_output\n",
    "import pandas as pd\n",
    "import numpy as np\n",
    "import math"
   ]
  },
  {
   "cell_type": "code",
   "execution_count": 13,
   "metadata": {},
   "outputs": [
    {
     "data": {
      "text/html": [
       "<div>\n",
       "<style scoped>\n",
       "    .dataframe tbody tr th:only-of-type {\n",
       "        vertical-align: middle;\n",
       "    }\n",
       "\n",
       "    .dataframe tbody tr th {\n",
       "        vertical-align: top;\n",
       "    }\n",
       "\n",
       "    .dataframe thead th {\n",
       "        text-align: right;\n",
       "    }\n",
       "</style>\n",
       "<table border=\"1\" class=\"dataframe\">\n",
       "  <thead>\n",
       "    <tr style=\"text-align: right;\">\n",
       "      <th></th>\n",
       "      <th>Number</th>\n",
       "      <th>Frame</th>\n",
       "      <th>headValid</th>\n",
       "      <th>bodyValid</th>\n",
       "      <th>headLeft</th>\n",
       "      <th>headTop</th>\n",
       "      <th>headRight</th>\n",
       "      <th>headBottom</th>\n",
       "      <th>bodyLeft</th>\n",
       "      <th>bodyTop</th>\n",
       "      <th>bodyRight</th>\n",
       "      <th>bodyBottom</th>\n",
       "    </tr>\n",
       "  </thead>\n",
       "  <tbody>\n",
       "    <tr>\n",
       "      <th>0</th>\n",
       "      <td>0</td>\n",
       "      <td>0</td>\n",
       "      <td>1</td>\n",
       "      <td>1</td>\n",
       "      <td>270.828</td>\n",
       "      <td>794.098</td>\n",
       "      <td>309.037</td>\n",
       "      <td>834.066</td>\n",
       "      <td>235.925</td>\n",
       "      <td>770.142</td>\n",
       "      <td>371.546</td>\n",
       "      <td>1101.029</td>\n",
       "    </tr>\n",
       "    <tr>\n",
       "      <th>1</th>\n",
       "      <td>1</td>\n",
       "      <td>0</td>\n",
       "      <td>1</td>\n",
       "      <td>1</td>\n",
       "      <td>308.304</td>\n",
       "      <td>302.982</td>\n",
       "      <td>330.837</td>\n",
       "      <td>326.823</td>\n",
       "      <td>285.748</td>\n",
       "      <td>291.418</td>\n",
       "      <td>370.556</td>\n",
       "      <td>493.414</td>\n",
       "    </tr>\n",
       "    <tr>\n",
       "      <th>2</th>\n",
       "      <td>2</td>\n",
       "      <td>0</td>\n",
       "      <td>1</td>\n",
       "      <td>1</td>\n",
       "      <td>307.919</td>\n",
       "      <td>241.003</td>\n",
       "      <td>328.645</td>\n",
       "      <td>262.841</td>\n",
       "      <td>286.849</td>\n",
       "      <td>230.501</td>\n",
       "      <td>365.794</td>\n",
       "      <td>416.410</td>\n",
       "    </tr>\n",
       "    <tr>\n",
       "      <th>3</th>\n",
       "      <td>3</td>\n",
       "      <td>0</td>\n",
       "      <td>1</td>\n",
       "      <td>1</td>\n",
       "      <td>739.951</td>\n",
       "      <td>231.693</td>\n",
       "      <td>759.968</td>\n",
       "      <td>253.491</td>\n",
       "      <td>719.708</td>\n",
       "      <td>220.830</td>\n",
       "      <td>786.893</td>\n",
       "      <td>408.145</td>\n",
       "    </tr>\n",
       "    <tr>\n",
       "      <th>4</th>\n",
       "      <td>4</td>\n",
       "      <td>0</td>\n",
       "      <td>1</td>\n",
       "      <td>1</td>\n",
       "      <td>814.375</td>\n",
       "      <td>246.562</td>\n",
       "      <td>835.021</td>\n",
       "      <td>268.946</td>\n",
       "      <td>793.722</td>\n",
       "      <td>235.410</td>\n",
       "      <td>861.430</td>\n",
       "      <td>427.627</td>\n",
       "    </tr>\n",
       "  </tbody>\n",
       "</table>\n",
       "</div>"
      ],
      "text/plain": [
       "   Number  Frame  headValid  bodyValid  headLeft  headTop  headRight  \\\n",
       "0       0      0          1          1   270.828  794.098    309.037   \n",
       "1       1      0          1          1   308.304  302.982    330.837   \n",
       "2       2      0          1          1   307.919  241.003    328.645   \n",
       "3       3      0          1          1   739.951  231.693    759.968   \n",
       "4       4      0          1          1   814.375  246.562    835.021   \n",
       "\n",
       "   headBottom  bodyLeft  bodyTop  bodyRight  bodyBottom  \n",
       "0     834.066   235.925  770.142    371.546    1101.029  \n",
       "1     326.823   285.748  291.418    370.556     493.414  \n",
       "2     262.841   286.849  230.501    365.794     416.410  \n",
       "3     253.491   719.708  220.830    786.893     408.145  \n",
       "4     268.946   793.722  235.410    861.430     427.627  "
      ]
     },
     "execution_count": 13,
     "metadata": {},
     "output_type": "execute_result"
    }
   ],
   "source": [
    "# Se importa la información de los caminantes\n",
    "headers = ['Number','Frame','headValid','bodyValid','headLeft','headTop','headRight','headBottom','bodyLeft','bodyTop','bodyRight','bodyBottom']\n",
    "df = pd.read_csv('../Data/walkers.txt',sep=',',names=headers)\n",
    "df.head()"
   ]
  },
  {
   "cell_type": "code",
   "execution_count": 14,
   "metadata": {},
   "outputs": [],
   "source": [
    "T_Matrix = [[ 1.43809441e+00 , 7.58290450e+00  ,7.93117275e+02],\n",
    "             [-6.80696958e-01 , 8.22103159e+00  ,1.35956100e+03],\n",
    "             [-7.73887614e-06  ,1.76518761e-03  ,1.00000000e+00]]\n",
    "#6 lozas de ancho - Aproximamos ancho de 40 cm\n",
    "#15 Lozas de alto - Aproximamos largo de 40 cm\n",
    "pix_unit = 1.7 #pixeles por centimetro\n",
    "width_street = 240*pix_unit\n",
    "height_street = 600*pix_unit\n",
    "width_img = 5000\n",
    "height_img = 3500\n",
    "#Dimensiones de la imagen final\n",
    "final_size=(width_img,height_img)"
   ]
  },
  {
   "cell_type": "code",
   "execution_count": 15,
   "metadata": {},
   "outputs": [],
   "source": [
    "def TransformPoints(in_points,T_Matrix):\n",
    "    #Aplicacion de la transformación\n",
    "    if in_points !=[]:\n",
    "        puntos_np = np.array([in_points], dtype=np.float32)\n",
    "        out_points = cv2.perspectiveTransform(puntos_np,np.array(T_Matrix))\n",
    "    else:\n",
    "        return []\n",
    "    return out_points[0]"
   ]
  },
  {
   "cell_type": "code",
   "execution_count": 16,
   "metadata": {},
   "outputs": [],
   "source": [
    "def PolicyPoints(in_points,window_points,threshold):\n",
    "    #Determina puntos buenos y malos\n",
    "    buenos = []\n",
    "    malos = []\n",
    "    window_buenos = []\n",
    "    window_malos = []\n",
    "    lines_points = []\n",
    "    point2_temp = []\n",
    "    i = 0\n",
    "    for point in in_points:\n",
    "        es_malo = False\n",
    "        for point2 in in_points:\n",
    "            distance = math.sqrt((point[0]-point2[0])*(point[0]-point2[0])+(point[1]-point2[1])*(point[1]-point2[1]))\n",
    "            if 0<distance < (threshold*pix_unit):\n",
    "                es_malo = True\n",
    "                point2_temp = point2\n",
    "                break\n",
    "        if es_malo ==False:\n",
    "            buenos.append(point)\n",
    "            window_buenos.append(window_points[i])\n",
    "            i = i + 1\n",
    "        else:\n",
    "            malos.append(point)\n",
    "            window_malos.append(window_points[i])\n",
    "            lines_points.append([point,point2_temp])\n",
    "            i = i + 1\n",
    "    return window_buenos,window_malos,buenos,malos,lines_points"
   ]
  },
  {
   "cell_type": "code",
   "execution_count": 17,
   "metadata": {},
   "outputs": [],
   "source": [
    "def ViewTransformPoints(buenos, malos,lines_points,height_img,width_img):\n",
    "    blank_image = np.zeros((height_img,width_img ,3), np.uint8)\n",
    "    # se dibujan los puntos en la imagen de ojo de halcon\n",
    "    for point in buenos:\n",
    "        cv2.circle(blank_image,tuple(point), 30, (0,255,0), -1)\n",
    "    for point in malos:\n",
    "        cv2.circle(blank_image,tuple(point), 30, (0,0,255), -1)\n",
    "    for par in lines_points:\n",
    "        line_thickness = 2\n",
    "        blank_image = cv2.line(blank_image,tuple(par[0]), tuple(par[1]), (0, 0, 255), thickness=line_thickness)\n",
    "    b,g,r = cv2.split(blank_image)\n",
    "    frame_rgb = cv2.merge((r,g,b))\n",
    "    frame_rgb= frame_rgb[0:3500,2000:4200]\n",
    "    return frame_rgb"
   ]
  },
  {
   "cell_type": "code",
   "execution_count": 21,
   "metadata": {},
   "outputs": [],
   "source": [
    "# Funcion para mostrar 40 frames de video junto con las ventanas para la deteccion de personas y caras\n",
    "def Head_points(path,let_distance): \n",
    "    vidObj = cv2.VideoCapture(path) \n",
    "    count = 0\n",
    "    success = 1\n",
    "    while success and count<10: \n",
    "        success, image = vidObj.read() \n",
    "        filter_df = df[df['Frame']==(count+1)]\n",
    "        # Se obtienen los puntos que corresponden a las cabezas\n",
    "        head_points = []\n",
    "        window_points = []\n",
    "        for index,row in filter_df.iterrows():\n",
    "            start_point = (int(float(row['headLeft'])), int(float(row['headTop'])) )\n",
    "            end_point = (int(float(row['headRight'])), int(float(row['headBottom'])))\n",
    "            start_point2 = (int(float(row['bodyLeft'])), int(float(row['bodyTop'])) )\n",
    "            end_point2 = (int(float(row['bodyRight'])), int(float(row['bodyBottom']))) \n",
    "            window_points.append([start_point,end_point,start_point2,end_point2])\n",
    "            head_point = (int(start_point[0]/2+end_point[0]/2),int(start_point[1]/2+end_point[1]/2))\n",
    "            head_points.append(head_point)\n",
    "        head_transform_points=TransformPoints(np.array(head_points),T_Matrix)\n",
    "        w_buenos,w_malos,buenos, malos, lines_points = PolicyPoints(head_transform_points,window_points,let_distance*100)\n",
    "        for ventana in w_buenos:\n",
    "            thickness = 2\n",
    "            image = cv2.rectangle(image, ventana[0], ventana[1], (0,255,0), thickness) \n",
    "            image = cv2.rectangle(image, ventana[2], ventana[3], (0,255,0), thickness) \n",
    "        for ventana in w_malos:\n",
    "            thickness = 2\n",
    "            image = cv2.rectangle(image, ventana[0], ventana[1], (0,0,255), thickness) \n",
    "            image = cv2.rectangle(image, ventana[2], ventana[3], (0,0,255), thickness)   \n",
    "        \n",
    "            \n",
    "        falcon_image=ViewTransformPoints(buenos,malos,lines_points,height_img,width_img)\n",
    "        plt.figure(figsize = (20,8))\n",
    "        plt.subplot(121)\n",
    "        plt.title('Original') \n",
    "        b,g,r = cv2.split(image)\n",
    "        frame_rgb = cv2.merge((r,g,b))\n",
    "        plt.imshow(frame_rgb)\n",
    "        plt.subplot(122)\n",
    "        plt.imshow(falcon_image)\n",
    "        plt.title('Ojo de halcon') \n",
    "        plt.show()\n",
    "        clear_output(wait=True)\n",
    "        count += 1"
   ]
  },
  {
   "cell_type": "code",
   "execution_count": 22,
   "metadata": {},
   "outputs": [
    {
     "name": "stdout",
     "output_type": "stream",
     "text": [
      "Distancia máxima aceptada:\n"
     ]
    },
    {
     "data": {
      "application/vnd.jupyter.widget-view+json": {
       "model_id": "053e4d16e26f49dbb504edbc0821170a",
       "version_major": 2,
       "version_minor": 0
      },
      "text/plain": [
       "interactive(children=(FloatSlider(value=2.5, description='distancia', max=5.0), Output()), _dom_classes=('widg…"
      ]
     },
     "metadata": {},
     "output_type": "display_data"
    },
    {
     "data": {
      "text/plain": [
       "<function __main__.f(distancia)>"
      ]
     },
     "execution_count": 22,
     "metadata": {},
     "output_type": "execute_result"
    }
   ],
   "source": [
    "from ipywidgets import interact, widgets\n",
    "import sys\n",
    "\n",
    "print('Distancia máxima aceptada:')\n",
    "\n",
    "def f(distancia):\n",
    "    # Se aplica la funcion para visualizar 3 frames del video\n",
    "    head_points_frame = Head_points('../Data/calle.avi',distancia)\n",
    "    \n",
    "interact(f,distancia=(0.0,5.0))"
   ]
  }
 ],
 "metadata": {
  "kernelspec": {
   "display_name": "Python 3",
   "language": "python",
   "name": "python3"
  },
  "language_info": {
   "codemirror_mode": {
    "name": "ipython",
    "version": 3
   },
   "file_extension": ".py",
   "mimetype": "text/x-python",
   "name": "python",
   "nbconvert_exporter": "python",
   "pygments_lexer": "ipython3",
   "version": "3.7.0"
  }
 },
 "nbformat": 4,
 "nbformat_minor": 2
}
